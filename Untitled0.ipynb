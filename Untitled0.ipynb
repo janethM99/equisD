{
  "nbformat": 4,
  "nbformat_minor": 0,
  "metadata": {
    "colab": {
      "name": "Untitled0.ipynb",
      "provenance": [],
      "authorship_tag": "ABX9TyOtE9qU6tvUuZZt5Lae4nOX",
      "include_colab_link": true
    },
    "kernelspec": {
      "name": "python3",
      "display_name": "Python 3"
    },
    "language_info": {
      "name": "python"
    }
  },
  "cells": [
    {
      "cell_type": "markdown",
      "metadata": {
        "id": "view-in-github",
        "colab_type": "text"
      },
      "source": [
        "<a href=\"https://colab.research.google.com/github/janethM99/equisD/blob/main/Untitled0.ipynb\" target=\"_parent\"><img src=\"https://colab.research.google.com/assets/colab-badge.svg\" alt=\"Open In Colab\"/></a>"
      ]
    },
    {
      "cell_type": "code",
      "metadata": {
        "colab": {
          "base_uri": "https://localhost:8080/"
        },
        "id": "LD0nvuh7siXI",
        "outputId": "c2ca7a4b-b9c1-4a57-e4c6-13a85ace66ff"
      },
      "source": [
        "mi_variable1 =10\n",
        "mi_variable2 =10\n",
        "mi_variable3 =10.0\n",
        "mi_variable4 = 'true'\n",
        "\n",
        "\n",
        "\n",
        "print(mi_variable1)\n",
        "print(type(mi_variable1))\n",
        "\n",
        "print(mi_variable2)\n",
        "print(type(mi_variable2))\n",
        "\n",
        "print(mi_variable3)\n",
        "print(type(mi_variable3))\n",
        "\n",
        "print(mi_variable4)\n",
        "print(type(mi_variable4))"
      ],
      "execution_count": 4,
      "outputs": [
        {
          "output_type": "stream",
          "text": [
            "10\n",
            "<class 'int'>\n",
            "10\n",
            "<class 'int'>\n",
            "10.0\n",
            "<class 'float'>\n",
            "true\n",
            "<class 'str'>\n"
          ],
          "name": "stdout"
        }
      ]
    },
    {
      "cell_type": "markdown",
      "metadata": {
        "id": "lwoqZPoXvMKh"
      },
      "source": [
        "operadores!!"
      ]
    },
    {
      "cell_type": "code",
      "metadata": {
        "colab": {
          "base_uri": "https://localhost:8080/"
        },
        "id": "AlJmOhfKvX03",
        "outputId": "cefb0302-bd10-4dd1-bb85-4ccc410d18d8"
      },
      "source": [
        "a=0\n",
        "a,b,c = 0,1, 99\n",
        "\n",
        "print(a)\n",
        "print(b)\n",
        "print(c)\n",
        "print(c,b,a)"
      ],
      "execution_count": 6,
      "outputs": [
        {
          "output_type": "stream",
          "text": [
            "0\n",
            "1\n",
            "99\n",
            "99 1 0\n"
          ],
          "name": "stdout"
        }
      ]
    },
    {
      "cell_type": "markdown",
      "metadata": {
        "id": "g9D8n9Kyzqfj"
      },
      "source": [
        "condicionales"
      ]
    },
    {
      "cell_type": "code",
      "metadata": {
        "id": "FdmGq8EbztDo"
      },
      "source": [
        "if\n",
        "if else\n",
        "if elif else\n"
      ],
      "execution_count": null,
      "outputs": []
    },
    {
      "cell_type": "code",
      "metadata": {
        "colab": {
          "base_uri": "https://localhost:8080/"
        },
        "id": "kg3JMHDdz_HC",
        "outputId": "bd1e5790-b965-459f-8c5c-f4b40c272a59"
      },
      "source": [
        "hora=int(input('ingresa la hora en formato hh:'))\n",
        "if (hora>7 and hora < 13):\n",
        "  \n",
        "  print(\"Buenos dias\")\n",
        "elif (hora >=13 and hora< 19):\n",
        "  print('Buenas tardes')\n",
        "else: \n",
        "  print('Buenas noches')\n",
        "print('gracias')"
      ],
      "execution_count": 10,
      "outputs": [
        {
          "output_type": "stream",
          "text": [
            "ingresa la hora en formato hh:22\n",
            "Buenas noches\n",
            "gracias\n"
          ],
          "name": "stdout"
        }
      ]
    },
    {
      "cell_type": "markdown",
      "metadata": {
        "id": "64fg75tx2Bj7"
      },
      "source": [
        "string"
      ]
    },
    {
      "cell_type": "code",
      "metadata": {
        "colab": {
          "base_uri": "https://localhost:8080/"
        },
        "id": "7WaYF8r22DwR",
        "outputId": "d4a1677f-6d91-464a-b013-a58f051619e4"
      },
      "source": [
        "mi_cadena = \"janeth\"\n",
        "print(\"hola\")\n",
        "print('mundo')\n",
        "print(mi_cadena)\n",
        "print('hola', mi_cadena)\n",
        "print('hola'+ mi_cadena)\n",
        "print(f'hola {mi_cadena}, como estas')\n",
        "print(r'el caracter para tabulas es t')\n",
        "\n",
        "#metodos de string\n",
        "\n",
        "print(mi_cadena.lower())\n",
        "print(mi_cadena.upper())\n",
        "print(mi_cadena.capitalize())\n",
        "mi_oracion = \"estudio en isac\"\n",
        "nombres=\"jose, andrew, yasser\"\n",
        "print(mi_cadena.count('0')) #cuenta cuantas veces encuentra\n",
        "print(nombres.replace(\",\",\";\"))\n"
      ],
      "execution_count": 16,
      "outputs": [
        {
          "output_type": "stream",
          "text": [
            "hola\n",
            "mundo\n",
            "janeth\n",
            "hola janeth\n",
            "holajaneth\n",
            "hola janeth, como estas\n",
            "el caracter para tabulas es t\n",
            "janeth\n",
            "JANETH\n",
            "Janeth\n",
            "0\n",
            "jose; andrew; yasser\n"
          ],
          "name": "stdout"
        }
      ]
    },
    {
      "cell_type": "markdown",
      "metadata": {
        "id": "hm_oztV95ooc"
      },
      "source": [
        "solicitar por pantalla elingreso por tres notas y calcular el porcentaje \n",
        "si el resultado es\n",
        "7 bueno\n",
        "entre 8 a 9 muy bueno\n",
        "mayor a 9 excelente "
      ]
    },
    {
      "cell_type": "code",
      "metadata": {
        "colab": {
          "base_uri": "https://localhost:8080/"
        },
        "id": "r42o3RFQ6ulL",
        "outputId": "8b0bf9f7-e7dd-4638-c902-a2e92f351020"
      },
      "source": [
        "nota1 = float (input (\"ingrese las primera nota\"))\n",
        "nota2 = float (input(\"ingrese la segunda nota\"))\n",
        "nota3 = float (input(\"ingrese la tercera nota\"))\n",
        "\n",
        "promedio = round ((nota1+nota2+nota3)/3,2)\n",
        "print (f\"su promedio es {promedio} \")\n",
        "\n",
        "promedio = (nota1+nota2+nota3)/3\n",
        "\n",
        "if promedio == 7:\n",
        "  print (\"bueno\")\n",
        "elif promedio > 7 and promedio < 8:\n",
        "  print(\"muy bueno\")\n",
        "elif promedio > 9:\n",
        "  print(\"excelente\")"
      ],
      "execution_count": 24,
      "outputs": [
        {
          "output_type": "stream",
          "text": [
            "ingrese las primera nota7\n",
            "ingrese la segunda nota9\n",
            "ingrese la tercera nota7\n",
            "su promedio es 7.67 \n",
            "muy bueno\n"
          ],
          "name": "stdout"
        }
      ]
    }
  ]
}