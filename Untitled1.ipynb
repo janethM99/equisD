{
  "nbformat": 4,
  "nbformat_minor": 0,
  "metadata": {
    "colab": {
      "name": "Untitled1.ipynb",
      "provenance": [],
      "authorship_tag": "ABX9TyOY62xPx96ZsYl62rpSRYiO",
      "include_colab_link": true
    },
    "kernelspec": {
      "name": "python3",
      "display_name": "Python 3"
    },
    "language_info": {
      "name": "python"
    }
  },
  "cells": [
    {
      "cell_type": "markdown",
      "metadata": {
        "id": "view-in-github",
        "colab_type": "text"
      },
      "source": [
        "<a href=\"https://colab.research.google.com/github/janethM99/equisD/blob/main/Untitled1.ipynb\" target=\"_parent\"><img src=\"https://colab.research.google.com/assets/colab-badge.svg\" alt=\"Open In Colab\"/></a>"
      ]
    },
    {
      "cell_type": "code",
      "metadata": {
        "id": "O7OFq9Z8ebGV"
      },
      "source": [
        "#listas"
      ],
      "execution_count": null,
      "outputs": []
    },
    {
      "cell_type": "code",
      "metadata": {
        "colab": {
          "base_uri": "https://localhost:8080/"
        },
        "id": "vusAvR71e7Lw",
        "outputId": "8cd1f501-7ddd-4b5a-bdd8-7b6fc8d4f3cf"
      },
      "source": [
        "mi_lista_fruta = ['manzana', 'sandia', 'frutilla']\n",
        "mi_lista= ['manzana', 10, True, 10.5, mi_lista_fruta]\n",
        "print(mi_lista_fruta[2])\n",
        "print(mi_lista_fruta)\n",
        "print(mi_lista)\n",
        "print(mi_lista_fruta[2])\n",
        "print(mi_lista[3])\n",
        "\n",
        "\n",
        "print(mi_lista)\n",
        "print(type(mi_lista))\n",
        "print(mi_lista[-1])\n",
        "#print(mi_lista[-1])\n",
        "\n",
        "palabra = 'radar'\n",
        "print(palabra[::-1])\n",
        "\n",
        "\n",
        "mi_lista=['manzana', 10, True, 10.5, mi_lista_fruta]\n",
        "mi_lista_numero=[0,1,2,3,4,5,6,7,8,9]\n",
        "mi_lista_numero.insert(1, 11)\n",
        "mi_lista_numero.append(100) #agregar un elemento al final\n",
        "mi_lista_numero.extend(mi_lista_fruta)\n",
        "mi_lista_numero.remove('manzana')\n",
        "mi_lista_numero.pop(1)\n",
        "mi_lista_numero"
      ],
      "execution_count": 26,
      "outputs": [
        {
          "output_type": "stream",
          "text": [
            "frutilla\n",
            "['manzana', 'sandia', 'frutilla']\n",
            "['manzana', 10, True, 10.5, ['manzana', 'sandia', 'frutilla']]\n",
            "frutilla\n",
            "10.5\n",
            "['manzana', 10, True, 10.5, ['manzana', 'sandia', 'frutilla']]\n",
            "<class 'list'>\n",
            "['manzana', 'sandia', 'frutilla']\n",
            "radar\n"
          ],
          "name": "stdout"
        },
        {
          "output_type": "execute_result",
          "data": {
            "text/plain": [
              "[0, 1, 2, 3, 4, 5, 6, 7, 8, 9, 100, 'sandia', 'frutilla']"
            ]
          },
          "metadata": {
            "tags": []
          },
          "execution_count": 26
        }
      ]
    },
    {
      "cell_type": "code",
      "metadata": {
        "colab": {
          "base_uri": "https://localhost:8080/"
        },
        "id": "tSwl-Ub1sbzX",
        "outputId": "fcbb0e49-b310-4037-f8bf-b09d6324e1fc"
      },
      "source": [
        "lista1=['a','b',0,0,0,0,0]\n",
        "lista2=[1,1,1,1,1,1,1]\n",
        "lista3= lista1+lista2\n",
        "lista3"
      ],
      "execution_count": 29,
      "outputs": [
        {
          "output_type": "execute_result",
          "data": {
            "text/plain": [
              "['a', 'b', 0, 0, 0, 0, 0, 1, 1, 1, 1, 1, 1, 1]"
            ]
          },
          "metadata": {
            "tags": []
          },
          "execution_count": 29
        }
      ]
    }
  ]
}